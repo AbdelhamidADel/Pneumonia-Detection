{
  "cells": [
    {
      "metadata": {
        "_uuid": "849e02e1c8c42b50045060cc14659ee338358055",
        "id": "tqRtVeQ12RoP"
      },
      "cell_type": "markdown",
      "source": [
        "#### Importing essential libraries\n",
        "Now we're importing all necesarry libraries for us to work with."
      ]
    },
    {
      "metadata": {
        "_uuid": "8f2839f25d086af736a60e9eeb907d3b93b6e0e5",
        "_cell_guid": "b1076dfc-b9ad-4769-8c92-a6c4dae69d19",
        "trusted": true,
        "scrolled": true,
        "collapsed": true,
        "id": "GKHddFeV2RoP"
      },
      "cell_type": "code",
      "source": [
        "import numpy as np # linear algebra\n",
        "import pandas as pd # data processing, CSV file I/O (e.g. pd.read_csv)\n",
        "from matplotlib import pyplot as plt #Ploting charts\n",
        "from glob import glob #retriving an array of files in directories\n",
        "from keras.models import Sequential #for neural network models\n",
        "from keras.layers import Dense, Dropout, Flatten, ZeroPadding2D, Conv2D, MaxPooling2D\n",
        "from keras.preprocessing.image import ImageDataGenerator #Data augmentation and preprocessing\n",
        "from keras.utils import to_categorical #For One-hot Encoding\n",
        "from keras.optimizers import Adam, SGD, RMSprop #For Optimizing the Neural Network\n",
        "from keras.callbacks import EarlyStopping"
      ],
      "execution_count": null,
      "outputs": []
    },
    {
      "metadata": {
        "_uuid": "756184cd8620c70938016efbc85f99dbb0673207",
        "id": "yItrOUFl2RoR"
      },
      "cell_type": "markdown",
      "source": [
        "Exploring the paths of the dataset.\n",
        "This is where our data is stored."
      ]
    },
    {
      "metadata": {
        "trusted": true,
        "_uuid": "779f27419b175a66c92d9f2cb3bc0b36962006be",
        "collapsed": true,
        "id": "q1p6eOoU2RoR"
      },
      "cell_type": "code",
      "source": [
        "#Cheking datasets\n",
        "import os\n",
        "paths = os.listdir(path=\"../input\")\n",
        "print(paths)"
      ],
      "execution_count": null,
      "outputs": []
    },
    {
      "metadata": {
        "_uuid": "cbc521dcb863f9ce144a10addf703e556e2f6100",
        "id": "bTZrXEIT2RoS"
      },
      "cell_type": "markdown",
      "source": [
        "## Data Analysis and Preprocessing"
      ]
    },
    {
      "metadata": {
        "_uuid": "9f3a8f76996019313a330af1082a80983f3c0601",
        "id": "FblN1dbP2RoT"
      },
      "cell_type": "markdown",
      "source": [
        "Getting all images in the dataset"
      ]
    },
    {
      "metadata": {
        "trusted": true,
        "collapsed": true,
        "_uuid": "8456c5020dbbe6f83c1a7fe218789925d7fb975e",
        "id": "ZXGr9W8N2RoT"
      },
      "cell_type": "code",
      "source": [
        "path_train = \"./chest_xray/train\"\n",
        "path_val = \"./chest_xray/val\"\n",
        "path_test = \"./chest_xray/test\""
      ],
      "execution_count": null,
      "outputs": []
    },
    {
      "metadata": {
        "_uuid": "1a069310cd5a13020f99f4f8cc165bf78e432b33",
        "id": "kY7VDNFP2RoU"
      },
      "cell_type": "markdown",
      "source": [
        "#### Pneumonia:"
      ]
    },
    {
      "metadata": {
        "trusted": true,
        "_uuid": "cc82f2b3e80545c47211cd20aa06dcf46830b948",
        "collapsed": true,
        "id": "1h90Tbot2RoU"
      },
      "cell_type": "code",
      "source": [
        "img = glob(path_train+\"/PNEUMONIA/*.jpeg\") #Getting all images in this folder"
      ],
      "execution_count": null,
      "outputs": []
    },
    {
      "metadata": {
        "trusted": true,
        "_uuid": "bde6a5febb928fe190e714ba70eaed28f9b9ab45",
        "collapsed": true,
        "id": "UYP6waQl2RoU"
      },
      "cell_type": "code",
      "source": [
        "img = np.asarray(plt.imread(img[0]))"
      ],
      "execution_count": null,
      "outputs": []
    },
    {
      "metadata": {
        "_uuid": "e436165de78ef02be083d6534e4c2b27f492ff20",
        "id": "PXN-TAAQ2RoV"
      },
      "cell_type": "markdown",
      "source": [
        "Plotting the image "
      ]
    },
    {
      "metadata": {
        "trusted": true,
        "_uuid": "9b0e0025ff34dea89ea438ec22de5925ffefa864",
        "collapsed": true,
        "id": "PUQoZuOm2RoV"
      },
      "cell_type": "code",
      "source": [
        "plt.imshow(img)"
      ],
      "execution_count": null,
      "outputs": []
    },
    {
      "metadata": {
        "trusted": true,
        "_uuid": "9d3ce22f25c4a6636df97eea45ba2e5dcb2b2c26",
        "collapsed": true,
        "id": "jn_nXAtO2RoV"
      },
      "cell_type": "code",
      "source": [
        "img.shape #Checking the shape of this image. It seems like a two deminsional shape (1422 x 1152)"
      ],
      "execution_count": null,
      "outputs": []
    },
    {
      "metadata": {
        "_uuid": "fbc7df746353cbe5d35685a1fe1014bc3e40a988",
        "id": "dsxmj9ZX2RoV"
      },
      "cell_type": "markdown",
      "source": [
        "#### Normal:"
      ]
    },
    {
      "metadata": {
        "trusted": true,
        "collapsed": true,
        "_uuid": "e0f9e00b87ea9fd0966c214a59d6a29f3c6befc0",
        "id": "03uAEj4m2RoW"
      },
      "cell_type": "code",
      "source": [
        "img = glob(path_train+\"/NORMAL/*.jpeg\") #Getting all images in this folder"
      ],
      "execution_count": null,
      "outputs": []
    },
    {
      "metadata": {
        "trusted": true,
        "_uuid": "e5da1e326aeee5705b760b26a1062f4cca050d10",
        "collapsed": true,
        "id": "bSNsKf4K2RoW"
      },
      "cell_type": "code",
      "source": [
        "img = np.asarray(plt.imread(img[0]))"
      ],
      "execution_count": null,
      "outputs": []
    },
    {
      "metadata": {
        "trusted": true,
        "_uuid": "d553d0679d58b93f477ee082f5adc0e4b9dd4fef",
        "collapsed": true,
        "id": "wxr2V0-u2RoW"
      },
      "cell_type": "code",
      "source": [
        "plt.imshow(img)"
      ],
      "execution_count": null,
      "outputs": []
    },
    {
      "metadata": {
        "trusted": true,
        "_uuid": "4915c1dbe62a580927fe7a91e9acc625b8c6dcb4",
        "collapsed": true,
        "id": "9y9vigTq2RoW"
      },
      "cell_type": "code",
      "source": [
        "img.shape"
      ],
      "execution_count": null,
      "outputs": []
    },
    {
      "metadata": {
        "_cell_guid": "79c7e3d0-c299-4dcb-8224-4455121ee9b0",
        "_uuid": "d629ff2d2480ee46fbb7e2d37f6b5fab8052498a",
        "trusted": true,
        "scrolled": false,
        "collapsed": true,
        "id": "Cg7iYXfz2RoX"
      },
      "cell_type": "code",
      "source": [
        "#Data preprocessing and analysis\n",
        "classes = [\"NORMAL\", \"PNEUMONIA\"]\n",
        "train_data = glob(path_train+\"/NORMAL/*.jpeg\")\n",
        "train_data += glob(path_train+\"/PNEUMONIA/*.jpeg\")\n",
        "data_gen = ImageDataGenerator() #Augmentation happens here\n",
        "#But in this example we're not going to give the ImageDataGenerator method any parameters to augment our data."
      ],
      "execution_count": null,
      "outputs": []
    },
    {
      "metadata": {
        "trusted": true,
        "_uuid": "9e110a80e256fddf7b871c2093afb75e552260d3",
        "collapsed": true,
        "id": "qfiQVzBX2RoX"
      },
      "cell_type": "code",
      "source": [
        "train_batches = data_gen.flow_from_directory(path_train, target_size = (226, 226), classes = classes, class_mode = \"categorical\")\n",
        "val_batches = data_gen.flow_from_directory(path_val, target_size = (226, 226), classes = classes, class_mode = \"categorical\")\n",
        "test_batches = data_gen.flow_from_directory(path_test, target_size = (226, 226), classes = classes, class_mode = \"categorical\")"
      ],
      "execution_count": null,
      "outputs": []
    },
    {
      "metadata": {
        "trusted": true,
        "_uuid": "283796e255c899910559419f54b8ad9550493ebc",
        "collapsed": true,
        "id": "RUg9dhxr2RoY"
      },
      "cell_type": "code",
      "source": [
        "train_batches.image_shape"
      ],
      "execution_count": null,
      "outputs": []
    },
    {
      "metadata": {
        "_uuid": "9b223c246034b36262e7233e0e6fdc7ed7b183c8",
        "id": "TtsS6ICQ2RoY"
      },
      "cell_type": "markdown",
      "source": [
        "Source to model is [here.](https://gist.github.com/baraldilorenzo/07d7802847aaad0a35d3)"
      ]
    },
    {
      "metadata": {
        "trusted": true,
        "_uuid": "8b60d27aa4e21493fdab757baf6d2116619444f7",
        "scrolled": false,
        "collapsed": true,
        "id": "M94VPqzw2RoY"
      },
      "cell_type": "code",
      "source": [
        "#This is a Convolutional Artificial Neural Network\n",
        "#VGG16 Model\n",
        "model = Sequential()\n",
        "model.add(ZeroPadding2D((1,1),input_shape=train_batches.image_shape))\n",
        "model.add(Conv2D(64, (3, 3), activation='relu'))\n",
        "model.add(ZeroPadding2D((1,1)))\n",
        "model.add(Conv2D(64, (3, 3), activation='relu'))\n",
        "model.add(MaxPooling2D((2,2), strides=(2,2)))\n",
        "\n",
        "model.add(ZeroPadding2D((1,1)))\n",
        "model.add(Conv2D(128, (3, 3), activation='relu'))\n",
        "model.add(ZeroPadding2D((1,1)))\n",
        "model.add(Conv2D(128, (3, 3), activation='relu'))\n",
        "model.add(MaxPooling2D((2,2), strides=(2,2)))\n",
        "\n",
        "model.add(ZeroPadding2D((1,1)))\n",
        "model.add(Conv2D(256, (3, 3), activation='relu'))\n",
        "model.add(ZeroPadding2D((1,1)))\n",
        "model.add(Conv2D(256, (3, 3), activation='relu'))\n",
        "model.add(ZeroPadding2D((1,1)))\n",
        "model.add(Conv2D(256, (3, 3), activation='relu'))\n",
        "model.add(MaxPooling2D((2,2), strides=(2,2)))\n",
        "\n",
        "model.add(ZeroPadding2D((1,1)))\n",
        "model.add(Conv2D(512, (3, 3), activation='relu'))\n",
        "model.add(ZeroPadding2D((1,1)))\n",
        "model.add(Conv2D(512, (3, 3), activation='relu'))\n",
        "model.add(ZeroPadding2D((1,1)))\n",
        "model.add(Conv2D(512, (3, 3), activation='relu'))\n",
        "model.add(MaxPooling2D((2,2), strides=(2,2)))\n",
        "\n",
        "model.add(ZeroPadding2D((1,1)))\n",
        "model.add(Conv2D(512, (3, 3), activation='relu'))\n",
        "model.add(ZeroPadding2D((1,1)))\n",
        "model.add(Conv2D(512, (3, 3), activation='relu'))\n",
        "model.add(ZeroPadding2D((1,1)))\n",
        "model.add(Conv2D(512, (3, 3), activation='relu'))\n",
        "model.add(MaxPooling2D((2,2), strides=(2,2)))\n",
        "\n",
        "model.add(Flatten())\n",
        "model.add(Dense(4096, activation='relu'))\n",
        "model.add(Dropout(0.5))\n",
        "model.add(Dense(4096, activation='relu'))\n",
        "model.add(Dropout(0.5))\n",
        "model.add(Dense(2, activation='softmax'))"
      ],
      "execution_count": null,
      "outputs": []
    },
    {
      "metadata": {
        "trusted": true,
        "scrolled": false,
        "_uuid": "3256d49c683e35184d560ea5dcc3e5c3f21f246a",
        "collapsed": true,
        "id": "u-ashd0h2RoZ"
      },
      "cell_type": "code",
      "source": [
        "#Viewing the summary of the model\n",
        "model.summary()"
      ],
      "execution_count": null,
      "outputs": []
    },
    {
      "metadata": {
        "_uuid": "eac8327eefa70ce07b90572abf0ec91a3e7e69fa",
        "id": "yOVxXcOl2RoZ"
      },
      "cell_type": "markdown",
      "source": [
        "### Training the neural net"
      ]
    },
    {
      "metadata": {
        "_uuid": "2406297c42a8fdae3095a8c3acaa7496873a7230",
        "id": "b4hQBukS2RoZ"
      },
      "cell_type": "markdown",
      "source": [
        "Now the training begins"
      ]
    },
    {
      "metadata": {
        "trusted": true,
        "_uuid": "8d031f95350bafedfe8b8e54e2392c8582735d7c",
        "scrolled": true,
        "collapsed": true,
        "id": "n0A1smtn2Roa"
      },
      "cell_type": "code",
      "source": [
        "optimizer = Adam(lr = 0.0001)\n",
        "early_stopping_monitor = EarlyStopping(patience = 3, monitor = \"val_acc\", mode=\"max\", verbose = 2)\n",
        "model.compile(loss=\"categorical_crossentropy\", metrics=[\"accuracy\"], optimizer=optimizer)\n",
        "history = model.fit_generator(epochs=5, callbacks=[early_stopping_monitor], shuffle=True, validation_data=val_batches, generator=train_batches, steps_per_epoch=500, validation_steps=10,verbose=2)\n",
        "prediction = model.predict_generator(generator=train_batches, verbose=2, steps=100)"
      ],
      "execution_count": null,
      "outputs": []
    },
    {
      "metadata": {
        "_uuid": "a59250c07cc5a71b2b669f14e106c5c21f0bdc21",
        "id": "1PHO4CTY2Rob"
      },
      "cell_type": "markdown",
      "source": [
        "## Model Accuracy Chart"
      ]
    },
    {
      "metadata": {
        "trusted": true,
        "_uuid": "506ed81a1b3a96a634a05c7ccd461a1a83ac1ad8",
        "collapsed": true,
        "id": "jgoRJgPv2Roc"
      },
      "cell_type": "code",
      "source": [
        "# summarize history for accuracy\n",
        "plt.plot(history.history['acc'])\n",
        "plt.plot(history.history['val_acc'])\n",
        "plt.title('model accuracy')\n",
        "plt.ylabel('accuracy')\n",
        "plt.xlabel('epoch')\n",
        "plt.legend(['train', 'test'], loc='best')\n",
        "plt.show()"
      ],
      "execution_count": null,
      "outputs": []
    },
    {
      "metadata": {
        "_uuid": "2e840ecb100ced27b66f81bde009fefe85465890",
        "id": "449TOF8J2Roc"
      },
      "cell_type": "markdown",
      "source": [
        "## Model Loss Chart"
      ]
    },
    {
      "metadata": {
        "trusted": true,
        "_uuid": "c2fff9f3e1465649db74a494837268ab12a6ee9c",
        "collapsed": true,
        "id": "jFBbD0Bn2Roc"
      },
      "cell_type": "code",
      "source": [
        "]# summarize history for loss\n",
        "plt.plot(history.history['loss'])\n",
        "plt.plot(history.history['val_loss'])\n",
        "plt.title('model loss')\n",
        "plt.ylabel('loss')\n",
        "plt.xlabel('epoch')\n",
        "plt.legend(['train', 'test'], loc='best')\n",
        "plt.show()"
      ],
      "execution_count": null,
      "outputs": []
    }
  ],
  "metadata": {
    "kernelspec": {
      "display_name": "Python 3",
      "language": "python",
      "name": "python3"
    },
    "language_info": {
      "name": "python",
      "version": "3.6.4",
      "mimetype": "text/x-python",
      "codemirror_mode": {
        "name": "ipython",
        "version": 3
      },
      "pygments_lexer": "ipython3",
      "nbconvert_exporter": "python",
      "file_extension": ".py"
    },
    "colab": {
      "provenance": []
    }
  },
  "nbformat": 4,
  "nbformat_minor": 0
}